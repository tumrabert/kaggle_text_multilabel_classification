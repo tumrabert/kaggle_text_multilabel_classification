{
 "cells": [
  {
   "cell_type": "code",
   "execution_count": 39,
   "metadata": {},
   "outputs": [],
   "source": [
    "import pandas as pd\n",
    "import numpy as np\n",
    "from sklearn.feature_extraction.text import TfidfVectorizer\n",
    "from sklearn.preprocessing import MultiLabelBinarizer\n",
    "from sklearn.model_selection import train_test_split\n",
    "\n",
    "from sklearn.linear_model import SGDClassifier\n",
    "from sklearn.linear_model import LogisticRegression\n",
    "from sklearn.svm import LinearSVC\n",
    "\n",
    "from sklearn.multiclass import OneVsRestClassifier"
   ]
  },
  {
   "cell_type": "code",
   "execution_count": 40,
   "metadata": {},
   "outputs": [],
   "source": [
    "import pandas as pd\n",
    "\n",
    "json_file_path = 'train_for_student.json'\n",
    "df = pd.read_json(json_file_path)\n",
    "df = df.T\n"
   ]
  },
  {
   "cell_type": "code",
   "execution_count": 41,
   "metadata": {},
   "outputs": [],
   "source": [
    "df.head()\n",
    "df[\"CONTEXT\"]=df['Title']+\". \"+df[\"Abstract\"]"
   ]
  },
  {
   "cell_type": "code",
   "execution_count": 42,
   "metadata": {},
   "outputs": [],
   "source": [
    "df.drop(df.columns[0:2], axis=1, inplace=True)\n"
   ]
  },
  {
   "cell_type": "code",
   "execution_count": 43,
   "metadata": {},
   "outputs": [],
   "source": [
    "df=df[['CONTEXT','Classes']]"
   ]
  },
  {
   "cell_type": "code",
   "execution_count": 47,
   "metadata": {},
   "outputs": [
    {
     "data": {
      "text/html": [
       "<div>\n",
       "<style scoped>\n",
       "    .dataframe tbody tr th:only-of-type {\n",
       "        vertical-align: middle;\n",
       "    }\n",
       "\n",
       "    .dataframe tbody tr th {\n",
       "        vertical-align: top;\n",
       "    }\n",
       "\n",
       "    .dataframe thead th {\n",
       "        text-align: right;\n",
       "    }\n",
       "</style>\n",
       "<table border=\"1\" class=\"dataframe\">\n",
       "  <thead>\n",
       "    <tr style=\"text-align: right;\">\n",
       "      <th></th>\n",
       "      <th>CONTEXT</th>\n",
       "      <th>Classes</th>\n",
       "    </tr>\n",
       "  </thead>\n",
       "  <tbody>\n",
       "    <tr>\n",
       "      <th>1</th>\n",
       "      <td>Activated carbon derived from bacterial cellul...</td>\n",
       "      <td>[CHE, MATENG]</td>\n",
       "    </tr>\n",
       "    <tr>\n",
       "      <th>2</th>\n",
       "      <td>The algorithm of static hand gesture recogniti...</td>\n",
       "      <td>[CPE]</td>\n",
       "    </tr>\n",
       "    <tr>\n",
       "      <th>3</th>\n",
       "      <td>Alternative Redundant Residue Number System Co...</td>\n",
       "      <td>[EE]</td>\n",
       "    </tr>\n",
       "    <tr>\n",
       "      <th>4</th>\n",
       "      <td>Comparative study of wax inhibitor performance...</td>\n",
       "      <td>[PE, ME, CHE]</td>\n",
       "    </tr>\n",
       "    <tr>\n",
       "      <th>5</th>\n",
       "      <td>Undrained lower bound solutions for end bearin...</td>\n",
       "      <td>[CE, MATSCI]</td>\n",
       "    </tr>\n",
       "    <tr>\n",
       "      <th>...</th>\n",
       "      <td>...</td>\n",
       "      <td>...</td>\n",
       "    </tr>\n",
       "    <tr>\n",
       "      <th>450</th>\n",
       "      <td>A portable USB-controlled potentiostat for pap...</td>\n",
       "      <td>[CPE, CHE]</td>\n",
       "    </tr>\n",
       "    <tr>\n",
       "      <th>451</th>\n",
       "      <td>Literature reviews on applying artificial inte...</td>\n",
       "      <td>[CPE, EDU]</td>\n",
       "    </tr>\n",
       "    <tr>\n",
       "      <th>452</th>\n",
       "      <td>A multi-parameterized water quality prediction...</td>\n",
       "      <td>[ENV, EE, CHE]</td>\n",
       "    </tr>\n",
       "    <tr>\n",
       "      <th>453</th>\n",
       "      <td>Semantic Segmentation on Medium-Resolution Sat...</td>\n",
       "      <td>[EE, CPE, OPTIC, EDU]</td>\n",
       "    </tr>\n",
       "    <tr>\n",
       "      <th>454</th>\n",
       "      <td>Reducing the defects of a-pillar stamping part...</td>\n",
       "      <td>[METAL, EDU, MATSCI]</td>\n",
       "    </tr>\n",
       "  </tbody>\n",
       "</table>\n",
       "<p>454 rows × 2 columns</p>\n",
       "</div>"
      ],
      "text/plain": [
       "                                               CONTEXT                Classes\n",
       "1    Activated carbon derived from bacterial cellul...          [CHE, MATENG]\n",
       "2    The algorithm of static hand gesture recogniti...                  [CPE]\n",
       "3    Alternative Redundant Residue Number System Co...                   [EE]\n",
       "4    Comparative study of wax inhibitor performance...          [PE, ME, CHE]\n",
       "5    Undrained lower bound solutions for end bearin...           [CE, MATSCI]\n",
       "..                                                 ...                    ...\n",
       "450  A portable USB-controlled potentiostat for pap...             [CPE, CHE]\n",
       "451  Literature reviews on applying artificial inte...             [CPE, EDU]\n",
       "452  A multi-parameterized water quality prediction...         [ENV, EE, CHE]\n",
       "453  Semantic Segmentation on Medium-Resolution Sat...  [EE, CPE, OPTIC, EDU]\n",
       "454  Reducing the defects of a-pillar stamping part...   [METAL, EDU, MATSCI]\n",
       "\n",
       "[454 rows x 2 columns]"
      ]
     },
     "execution_count": 47,
     "metadata": {},
     "output_type": "execute_result"
    }
   ],
   "source": [
    "df"
   ]
  },
  {
   "cell_type": "code",
   "execution_count": 49,
   "metadata": {},
   "outputs": [],
   "source": [
    "y=df['Classes']"
   ]
  },
  {
   "cell_type": "code",
   "execution_count": 50,
   "metadata": {},
   "outputs": [
    {
     "data": {
      "text/plain": [
       "1              [CHE, MATENG]\n",
       "2                      [CPE]\n",
       "3                       [EE]\n",
       "4              [PE, ME, CHE]\n",
       "5               [CE, MATSCI]\n",
       "               ...          \n",
       "450               [CPE, CHE]\n",
       "451               [CPE, EDU]\n",
       "452           [ENV, EE, CHE]\n",
       "453    [EE, CPE, OPTIC, EDU]\n",
       "454     [METAL, EDU, MATSCI]\n",
       "Name: Classes, Length: 454, dtype: object"
      ]
     },
     "execution_count": 50,
     "metadata": {},
     "output_type": "execute_result"
    }
   ],
   "source": [
    "y"
   ]
  },
  {
   "cell_type": "code",
   "execution_count": 51,
   "metadata": {},
   "outputs": [
    {
     "data": {
      "text/plain": [
       "array([[0, 0, 0, ..., 0, 0, 0],\n",
       "       [0, 0, 0, ..., 0, 0, 0],\n",
       "       [0, 0, 0, ..., 0, 0, 0],\n",
       "       ...,\n",
       "       [0, 0, 0, ..., 0, 0, 0],\n",
       "       [0, 0, 0, ..., 1, 0, 0],\n",
       "       [0, 0, 0, ..., 0, 0, 0]])"
      ]
     },
     "execution_count": 51,
     "metadata": {},
     "output_type": "execute_result"
    }
   ],
   "source": [
    "multilabel = MultiLabelBinarizer()\n",
    "y = multilabel.fit_transform(df['Classes'])\n",
    "y"
   ]
  },
  {
   "cell_type": "code",
   "execution_count": 52,
   "metadata": {},
   "outputs": [
    {
     "data": {
      "text/plain": [
       "array([0, 0, 0, 1, 0, 0, 0, 0, 0, 1, 0, 0, 0, 0, 0, 0, 0, 0])"
      ]
     },
     "execution_count": 52,
     "metadata": {},
     "output_type": "execute_result"
    }
   ],
   "source": [
    "y[0]"
   ]
  },
  {
   "cell_type": "code",
   "execution_count": 53,
   "metadata": {},
   "outputs": [
    {
     "data": {
      "text/plain": [
       "array(['AGRI', 'BME', 'CE', 'CHE', 'CPE', 'EDU', 'EE', 'ENV', 'IE',\n",
       "       'MATENG', 'MATH', 'MATSCI', 'ME', 'METAL', 'NANO', 'OPTIC', 'PE',\n",
       "       'SAFETY'], dtype=object)"
      ]
     },
     "execution_count": 53,
     "metadata": {},
     "output_type": "execute_result"
    }
   ],
   "source": [
    "multilabel.classes_"
   ]
  },
  {
   "cell_type": "code",
   "execution_count": 54,
   "metadata": {},
   "outputs": [
    {
     "data": {
      "text/plain": [
       "18"
      ]
     },
     "execution_count": 54,
     "metadata": {},
     "output_type": "execute_result"
    }
   ],
   "source": [
    "len(multilabel.classes_)"
   ]
  },
  {
   "cell_type": "code",
   "execution_count": 55,
   "metadata": {},
   "outputs": [],
   "source": [
    "CLASSES_ARRANGE = ['CE', 'ENV', 'BME', 'PE', 'METAL', 'ME', 'EE',\n",
    "               'CPE', 'OPTIC', 'NANO', 'CHE', 'MATENG', 'AGRI',\n",
    "               'EDU', 'IE', 'SAFETY', 'MATH', 'MATSCI']"
   ]
  },
  {
   "cell_type": "code",
   "execution_count": 56,
   "metadata": {},
   "outputs": [],
   "source": [
    "new_y=pd.DataFrame(y, columns=multilabel.classes_)"
   ]
  },
  {
   "cell_type": "code",
   "execution_count": 57,
   "metadata": {},
   "outputs": [],
   "source": [
    "# Splitting the dataset into training and testing sets\n",
    "X_train, X_test, y_train, y_test = train_test_split(df['CONTEXT'], new_y, test_size=0.2, random_state=0)"
   ]
  },
  {
   "cell_type": "code",
   "execution_count": 58,
   "metadata": {},
   "outputs": [],
   "source": [
    "from sklearn.metrics import f1_score,make_scorer,recall_score\n",
    "f1_scorer = make_scorer(f1_score, average='weighted')"
   ]
  },
  {
   "cell_type": "code",
   "execution_count": 59,
   "metadata": {},
   "outputs": [],
   "source": [
    "from sklearn.pipeline import Pipeline\n",
    "pipeline = Pipeline([\n",
    "    ('tfidf', TfidfVectorizer(analyzer='word', max_features=1000)),\n",
    "    ('clf', OneVsRestClassifier(LinearSVC(), n_jobs=1)),\n",
    "])"
   ]
  },
  {
   "cell_type": "code",
   "execution_count": 60,
   "metadata": {},
   "outputs": [],
   "source": [
    "parameters = {\n",
    "    'tfidf__max_df': (0.75, 0.85, 0.95),\n",
    "    'tfidf__min_df': (0.01, 0.05, 0.1),\n",
    "    'clf__estimator__C': (0.01, 0.1, 1, 10, 100,1000,10000),  # Increased range for C\n",
    "}"
   ]
  },
  {
   "cell_type": "code",
   "execution_count": 61,
   "metadata": {},
   "outputs": [],
   "source": [
    "from sklearn.model_selection import GridSearchCV\n",
    "# Grid search to find the best parameters for both the vectorizer and the classifier\n",
    "grid_search_tune = GridSearchCV(pipeline, parameters, cv=2, scoring=f1_scorer, verbose=2)\n",
    "grid_search_tune.fit(X_train, y_train)\n",
    "\n"
   ]
  },
  {
   "cell_type": "code",
   "execution_count": 63,
   "metadata": {},
   "outputs": [
    {
     "name": "stdout",
     "output_type": "stream",
     "text": [
      "Best parameters set:\n",
      "[('tfidf', TfidfVectorizer(max_df=0.85, max_features=1000, min_df=0.01)), ('clf', OneVsRestClassifier(estimator=LinearSVC(C=100), n_jobs=1))]\n"
     ]
    }
   ],
   "source": [
    "print(\"Best parameters set:\")\n",
    "print(grid_search_tune.best_estimator_.steps)"
   ]
  },
  {
   "cell_type": "code",
   "execution_count": 64,
   "metadata": {},
   "outputs": [],
   "source": [
    "# Prediction & Evaluation\n",
    "y_pred = grid_search_tune.predict(X_test)"
   ]
  },
  {
   "cell_type": "code",
   "execution_count": 65,
   "metadata": {},
   "outputs": [
    {
     "name": "stdout",
     "output_type": "stream",
     "text": [
      "F1 score: 0.54\n",
      "Recall score: 0.50\n"
     ]
    }
   ],
   "source": [
    "def print_score(y_true, y_pred):\n",
    "    print('F1 score: {:.2f}'.format(f1_score(y_true, y_pred, average='weighted')))\n",
    "    print('Recall score: {:.2f}'.format(recall_score(y_true, y_pred, average='weighted')))\n",
    "    # Add more metrics here if needed\n",
    "\n",
    "print_score(y_test, y_pred)"
   ]
  },
  {
   "cell_type": "code",
   "execution_count": 73,
   "metadata": {},
   "outputs": [
    {
     "name": "stdout",
     "output_type": "stream",
     "text": [
      "(91, 18) (91, 18)\n"
     ]
    }
   ],
   "source": [
    "print(y_test.shape, y_pred.shape)"
   ]
  },
  {
   "cell_type": "code",
   "execution_count": 78,
   "metadata": {},
   "outputs": [
    {
     "data": {
      "text/html": [
       "<div>\n",
       "<style scoped>\n",
       "    .dataframe tbody tr th:only-of-type {\n",
       "        vertical-align: middle;\n",
       "    }\n",
       "\n",
       "    .dataframe tbody tr th {\n",
       "        vertical-align: top;\n",
       "    }\n",
       "\n",
       "    .dataframe thead th {\n",
       "        text-align: right;\n",
       "    }\n",
       "</style>\n",
       "<table border=\"1\" class=\"dataframe\">\n",
       "  <thead>\n",
       "    <tr style=\"text-align: right;\">\n",
       "      <th></th>\n",
       "      <th>AGRI</th>\n",
       "      <th>BME</th>\n",
       "      <th>CE</th>\n",
       "      <th>CHE</th>\n",
       "      <th>CPE</th>\n",
       "      <th>EDU</th>\n",
       "      <th>EE</th>\n",
       "      <th>ENV</th>\n",
       "      <th>IE</th>\n",
       "      <th>MATENG</th>\n",
       "      <th>MATH</th>\n",
       "      <th>MATSCI</th>\n",
       "      <th>ME</th>\n",
       "      <th>METAL</th>\n",
       "      <th>NANO</th>\n",
       "      <th>OPTIC</th>\n",
       "      <th>PE</th>\n",
       "      <th>SAFETY</th>\n",
       "    </tr>\n",
       "  </thead>\n",
       "  <tbody>\n",
       "    <tr>\n",
       "      <th>124</th>\n",
       "      <td>0</td>\n",
       "      <td>0</td>\n",
       "      <td>0</td>\n",
       "      <td>0</td>\n",
       "      <td>0</td>\n",
       "      <td>0</td>\n",
       "      <td>0</td>\n",
       "      <td>0</td>\n",
       "      <td>0</td>\n",
       "      <td>0</td>\n",
       "      <td>1</td>\n",
       "      <td>0</td>\n",
       "      <td>0</td>\n",
       "      <td>0</td>\n",
       "      <td>0</td>\n",
       "      <td>0</td>\n",
       "      <td>0</td>\n",
       "      <td>0</td>\n",
       "    </tr>\n",
       "    <tr>\n",
       "      <th>54</th>\n",
       "      <td>0</td>\n",
       "      <td>0</td>\n",
       "      <td>1</td>\n",
       "      <td>1</td>\n",
       "      <td>1</td>\n",
       "      <td>0</td>\n",
       "      <td>1</td>\n",
       "      <td>1</td>\n",
       "      <td>1</td>\n",
       "      <td>1</td>\n",
       "      <td>1</td>\n",
       "      <td>0</td>\n",
       "      <td>1</td>\n",
       "      <td>0</td>\n",
       "      <td>0</td>\n",
       "      <td>0</td>\n",
       "      <td>1</td>\n",
       "      <td>0</td>\n",
       "    </tr>\n",
       "    <tr>\n",
       "      <th>293</th>\n",
       "      <td>0</td>\n",
       "      <td>0</td>\n",
       "      <td>0</td>\n",
       "      <td>0</td>\n",
       "      <td>1</td>\n",
       "      <td>0</td>\n",
       "      <td>0</td>\n",
       "      <td>0</td>\n",
       "      <td>1</td>\n",
       "      <td>0</td>\n",
       "      <td>1</td>\n",
       "      <td>0</td>\n",
       "      <td>0</td>\n",
       "      <td>0</td>\n",
       "      <td>0</td>\n",
       "      <td>0</td>\n",
       "      <td>0</td>\n",
       "      <td>0</td>\n",
       "    </tr>\n",
       "    <tr>\n",
       "      <th>250</th>\n",
       "      <td>0</td>\n",
       "      <td>0</td>\n",
       "      <td>0</td>\n",
       "      <td>1</td>\n",
       "      <td>0</td>\n",
       "      <td>0</td>\n",
       "      <td>0</td>\n",
       "      <td>0</td>\n",
       "      <td>0</td>\n",
       "      <td>1</td>\n",
       "      <td>0</td>\n",
       "      <td>0</td>\n",
       "      <td>0</td>\n",
       "      <td>0</td>\n",
       "      <td>1</td>\n",
       "      <td>0</td>\n",
       "      <td>0</td>\n",
       "      <td>0</td>\n",
       "    </tr>\n",
       "    <tr>\n",
       "      <th>241</th>\n",
       "      <td>0</td>\n",
       "      <td>0</td>\n",
       "      <td>0</td>\n",
       "      <td>1</td>\n",
       "      <td>1</td>\n",
       "      <td>0</td>\n",
       "      <td>0</td>\n",
       "      <td>0</td>\n",
       "      <td>0</td>\n",
       "      <td>0</td>\n",
       "      <td>0</td>\n",
       "      <td>0</td>\n",
       "      <td>0</td>\n",
       "      <td>0</td>\n",
       "      <td>0</td>\n",
       "      <td>0</td>\n",
       "      <td>1</td>\n",
       "      <td>0</td>\n",
       "    </tr>\n",
       "  </tbody>\n",
       "</table>\n",
       "</div>"
      ],
      "text/plain": [
       "     AGRI  BME  CE  CHE  CPE  EDU  EE  ENV  IE  MATENG  MATH  MATSCI  ME  \\\n",
       "124     0    0   0    0    0    0   0    0   0       0     1       0   0   \n",
       "54      0    0   1    1    1    0   1    1   1       1     1       0   1   \n",
       "293     0    0   0    0    1    0   0    0   1       0     1       0   0   \n",
       "250     0    0   0    1    0    0   0    0   0       1     0       0   0   \n",
       "241     0    0   0    1    1    0   0    0   0       0     0       0   0   \n",
       "\n",
       "     METAL  NANO  OPTIC  PE  SAFETY  \n",
       "124      0     0      0   0       0  \n",
       "54       0     0      0   1       0  \n",
       "293      0     0      0   0       0  \n",
       "250      0     1      0   0       0  \n",
       "241      0     0      0   1       0  "
      ]
     },
     "execution_count": 78,
     "metadata": {},
     "output_type": "execute_result"
    }
   ],
   "source": [
    "y_test.head()"
   ]
  },
  {
   "cell_type": "code",
   "execution_count": 82,
   "metadata": {},
   "outputs": [
    {
     "data": {
      "text/plain": [
       "array([0, 0, 0, 1, 0, 0, 1, 1, 1, 1, 1, 0, 1, 0, 0, 0, 1, 0])"
      ]
     },
     "execution_count": 82,
     "metadata": {},
     "output_type": "execute_result"
    }
   ],
   "source": [
    "y_pred[1]"
   ]
  },
  {
   "cell_type": "code",
   "execution_count": 76,
   "metadata": {},
   "outputs": [
    {
     "ename": "ValueError",
     "evalue": "multilabel-indicator is not supported",
     "output_type": "error",
     "traceback": [
      "\u001b[1;31m---------------------------------------------------------------------------\u001b[0m",
      "\u001b[1;31mValueError\u001b[0m                                Traceback (most recent call last)",
      "Cell \u001b[1;32mIn[76], line 6\u001b[0m\n\u001b[0;32m      3\u001b[0m \u001b[38;5;28;01mfrom\u001b[39;00m \u001b[38;5;21;01msklearn\u001b[39;00m\u001b[38;5;21;01m.\u001b[39;00m\u001b[38;5;21;01mmetrics\u001b[39;00m \u001b[38;5;28;01mimport\u001b[39;00m confusion_matrix\n\u001b[0;32m      5\u001b[0m \u001b[38;5;66;03m# Assuming you have your true labels 'y_true' and predictions 'y_pred' \u001b[39;00m\n\u001b[1;32m----> 6\u001b[0m cm \u001b[38;5;241m=\u001b[39m \u001b[43mconfusion_matrix\u001b[49m\u001b[43m(\u001b[49m\u001b[43my_test\u001b[49m\u001b[43m,\u001b[49m\u001b[43m \u001b[49m\u001b[43my_pred\u001b[49m\u001b[43m)\u001b[49m\n\u001b[0;32m      8\u001b[0m \u001b[38;5;66;03m# Basic visualization\u001b[39;00m\n\u001b[0;32m      9\u001b[0m plt\u001b[38;5;241m.\u001b[39mfigure(figsize\u001b[38;5;241m=\u001b[39m(\u001b[38;5;241m8\u001b[39m,\u001b[38;5;241m6\u001b[39m)) \n",
      "File \u001b[1;32mc:\\tumrabertHub\\tumrabertHub\\tumrabertStudy\\DS\\Kaggle\\2110446-data-science-2023-02\\.venv\\Lib\\site-packages\\sklearn\\utils\\_param_validation.py:213\u001b[0m, in \u001b[0;36mvalidate_params.<locals>.decorator.<locals>.wrapper\u001b[1;34m(*args, **kwargs)\u001b[0m\n\u001b[0;32m    207\u001b[0m \u001b[38;5;28;01mtry\u001b[39;00m:\n\u001b[0;32m    208\u001b[0m     \u001b[38;5;28;01mwith\u001b[39;00m config_context(\n\u001b[0;32m    209\u001b[0m         skip_parameter_validation\u001b[38;5;241m=\u001b[39m(\n\u001b[0;32m    210\u001b[0m             prefer_skip_nested_validation \u001b[38;5;129;01mor\u001b[39;00m global_skip_validation\n\u001b[0;32m    211\u001b[0m         )\n\u001b[0;32m    212\u001b[0m     ):\n\u001b[1;32m--> 213\u001b[0m         \u001b[38;5;28;01mreturn\u001b[39;00m \u001b[43mfunc\u001b[49m\u001b[43m(\u001b[49m\u001b[38;5;241;43m*\u001b[39;49m\u001b[43margs\u001b[49m\u001b[43m,\u001b[49m\u001b[43m \u001b[49m\u001b[38;5;241;43m*\u001b[39;49m\u001b[38;5;241;43m*\u001b[39;49m\u001b[43mkwargs\u001b[49m\u001b[43m)\u001b[49m\n\u001b[0;32m    214\u001b[0m \u001b[38;5;28;01mexcept\u001b[39;00m InvalidParameterError \u001b[38;5;28;01mas\u001b[39;00m e:\n\u001b[0;32m    215\u001b[0m     \u001b[38;5;66;03m# When the function is just a wrapper around an estimator, we allow\u001b[39;00m\n\u001b[0;32m    216\u001b[0m     \u001b[38;5;66;03m# the function to delegate validation to the estimator, but we replace\u001b[39;00m\n\u001b[0;32m    217\u001b[0m     \u001b[38;5;66;03m# the name of the estimator by the name of the function in the error\u001b[39;00m\n\u001b[0;32m    218\u001b[0m     \u001b[38;5;66;03m# message to avoid confusion.\u001b[39;00m\n\u001b[0;32m    219\u001b[0m     msg \u001b[38;5;241m=\u001b[39m re\u001b[38;5;241m.\u001b[39msub(\n\u001b[0;32m    220\u001b[0m         \u001b[38;5;124mr\u001b[39m\u001b[38;5;124m\"\u001b[39m\u001b[38;5;124mparameter of \u001b[39m\u001b[38;5;124m\\\u001b[39m\u001b[38;5;124mw+ must be\u001b[39m\u001b[38;5;124m\"\u001b[39m,\n\u001b[0;32m    221\u001b[0m         \u001b[38;5;124mf\u001b[39m\u001b[38;5;124m\"\u001b[39m\u001b[38;5;124mparameter of \u001b[39m\u001b[38;5;132;01m{\u001b[39;00mfunc\u001b[38;5;241m.\u001b[39m\u001b[38;5;18m__qualname__\u001b[39m\u001b[38;5;132;01m}\u001b[39;00m\u001b[38;5;124m must be\u001b[39m\u001b[38;5;124m\"\u001b[39m,\n\u001b[0;32m    222\u001b[0m         \u001b[38;5;28mstr\u001b[39m(e),\n\u001b[0;32m    223\u001b[0m     )\n",
      "File \u001b[1;32mc:\\tumrabertHub\\tumrabertHub\\tumrabertStudy\\DS\\Kaggle\\2110446-data-science-2023-02\\.venv\\Lib\\site-packages\\sklearn\\metrics\\_classification.py:321\u001b[0m, in \u001b[0;36mconfusion_matrix\u001b[1;34m(y_true, y_pred, labels, sample_weight, normalize)\u001b[0m\n\u001b[0;32m    319\u001b[0m y_type, y_true, y_pred \u001b[38;5;241m=\u001b[39m _check_targets(y_true, y_pred)\n\u001b[0;32m    320\u001b[0m \u001b[38;5;28;01mif\u001b[39;00m y_type \u001b[38;5;129;01mnot\u001b[39;00m \u001b[38;5;129;01min\u001b[39;00m (\u001b[38;5;124m\"\u001b[39m\u001b[38;5;124mbinary\u001b[39m\u001b[38;5;124m\"\u001b[39m, \u001b[38;5;124m\"\u001b[39m\u001b[38;5;124mmulticlass\u001b[39m\u001b[38;5;124m\"\u001b[39m):\n\u001b[1;32m--> 321\u001b[0m     \u001b[38;5;28;01mraise\u001b[39;00m \u001b[38;5;167;01mValueError\u001b[39;00m(\u001b[38;5;124m\"\u001b[39m\u001b[38;5;132;01m%s\u001b[39;00m\u001b[38;5;124m is not supported\u001b[39m\u001b[38;5;124m\"\u001b[39m \u001b[38;5;241m%\u001b[39m y_type)\n\u001b[0;32m    323\u001b[0m \u001b[38;5;28;01mif\u001b[39;00m labels \u001b[38;5;129;01mis\u001b[39;00m \u001b[38;5;28;01mNone\u001b[39;00m:\n\u001b[0;32m    324\u001b[0m     labels \u001b[38;5;241m=\u001b[39m unique_labels(y_true, y_pred)\n",
      "\u001b[1;31mValueError\u001b[0m: multilabel-indicator is not supported"
     ]
    }
   ],
   "source": [
    "import matplotlib.pyplot as plt\n",
    "import seaborn as sns\n",
    "from sklearn.metrics import multilabel_confusion_matrix\n",
    "\n",
    "confusion_matrices = multilabel_confusion_matrix(np.array(y_test), y_pred)\n",
    "\n",
    "print(confusion_matrices)\n"
   ]
  },
  {
   "cell_type": "code",
   "execution_count": null,
   "metadata": {},
   "outputs": [],
   "source": [
    "json_file_path = 'test_for_student.json'\n",
    "test_df = pd.read_json(json_file_path)\n",
    "test_df = test_df.T\n",
    "test_df[\"CONTEXT\"]=test_df['Title']+'. '+test_df[\"Abstract\"]\n",
    "test_df.drop(test_df.columns[0:2], axis=1, inplace=True)"
   ]
  },
  {
   "cell_type": "code",
   "execution_count": null,
   "metadata": {},
   "outputs": [
    {
     "data": {
      "text/html": [
       "<div>\n",
       "<style scoped>\n",
       "    .dataframe tbody tr th:only-of-type {\n",
       "        vertical-align: middle;\n",
       "    }\n",
       "\n",
       "    .dataframe tbody tr th {\n",
       "        vertical-align: top;\n",
       "    }\n",
       "\n",
       "    .dataframe thead th {\n",
       "        text-align: right;\n",
       "    }\n",
       "</style>\n",
       "<table border=\"1\" class=\"dataframe\">\n",
       "  <thead>\n",
       "    <tr style=\"text-align: right;\">\n",
       "      <th></th>\n",
       "      <th>CONTEXT</th>\n",
       "    </tr>\n",
       "  </thead>\n",
       "  <tbody>\n",
       "    <tr>\n",
       "      <th>001eval</th>\n",
       "      <td>Comparative Electrical Energy Yield Performanc...</td>\n",
       "    </tr>\n",
       "    <tr>\n",
       "      <th>002eval</th>\n",
       "      <td>Effects of graphene nanoplatelets on bio-based...</td>\n",
       "    </tr>\n",
       "    <tr>\n",
       "      <th>003eval</th>\n",
       "      <td>Anti-inflammatory action of two novel peptides...</td>\n",
       "    </tr>\n",
       "    <tr>\n",
       "      <th>004eval</th>\n",
       "      <td>Efficient all-and-one support vector machines ...</td>\n",
       "    </tr>\n",
       "    <tr>\n",
       "      <th>005eval</th>\n",
       "      <td>Driver identification using histogram and neur...</td>\n",
       "    </tr>\n",
       "  </tbody>\n",
       "</table>\n",
       "</div>"
      ],
      "text/plain": [
       "                                                   CONTEXT\n",
       "001eval  Comparative Electrical Energy Yield Performanc...\n",
       "002eval  Effects of graphene nanoplatelets on bio-based...\n",
       "003eval  Anti-inflammatory action of two novel peptides...\n",
       "004eval  Efficient all-and-one support vector machines ...\n",
       "005eval  Driver identification using histogram and neur..."
      ]
     },
     "execution_count": 27,
     "metadata": {},
     "output_type": "execute_result"
    }
   ],
   "source": [
    "test_df.head()"
   ]
  },
  {
   "cell_type": "code",
   "execution_count": null,
   "metadata": {},
   "outputs": [
    {
     "name": "stdout",
     "output_type": "stream",
     "text": [
      "[[0 0 0 ... 0 0 0]\n",
      " [0 0 1 ... 0 0 0]\n",
      " [0 0 0 ... 0 0 0]\n",
      " ...\n",
      " [0 0 0 ... 0 0 0]\n",
      " [0 0 0 ... 0 0 0]\n",
      " [0 0 0 ... 0 0 0]]\n"
     ]
    }
   ],
   "source": [
    "test_predictions = grid_search_tune.predict(test_df['CONTEXT'])\n",
    "print(test_predictions)"
   ]
  },
  {
   "cell_type": "code",
   "execution_count": null,
   "metadata": {},
   "outputs": [],
   "source": [
    "classes_array = multilabel.classes_.tolist()"
   ]
  },
  {
   "cell_type": "code",
   "execution_count": null,
   "metadata": {},
   "outputs": [
    {
     "name": "stdout",
     "output_type": "stream",
     "text": [
      "          id  AGRI  BME  CE  CHE  CPE  EDU  EE  ENV  IE  MATENG  MATH  MATSCI  \\\n",
      "0    001eval     0    0   0    1    0    0   1    0   0       0     0       0   \n",
      "1    002eval     0    0   1    1    0    0   1    0   0       0     0       1   \n",
      "2    003eval     0    0   0    1    0    0   0    0   0       0     0       0   \n",
      "3    004eval     0    0   0    0    0    0   1    0   0       0     1       0   \n",
      "4    005eval     0    0   0    0    1    0   0    0   0       0     0       0   \n",
      "..       ...   ...  ...  ..  ...  ...  ...  ..  ...  ..     ...   ...     ...   \n",
      "146  147eval     0    0   0    1    0    0   0    1   0       1     0       1   \n",
      "147  148eval     0    0   1    0    1    0   1    0   0       0     1       0   \n",
      "148  149eval     0    0   0    1    0    0   0    0   0       0     0       1   \n",
      "149  150eval     0    0   0    1    0    0   0    0   0       0     0       1   \n",
      "150  151eval     0    0   0    0    0    0   0    0   0       0     1       0   \n",
      "\n",
      "     ME  METAL  NANO  OPTIC  PE  SAFETY  \n",
      "0     0      0     0      0   0       0  \n",
      "1     0      0     0      0   0       0  \n",
      "2     0      0     0      0   0       0  \n",
      "3     0      0     0      0   0       0  \n",
      "4     0      0     0      0   0       0  \n",
      "..   ..    ...   ...    ...  ..     ...  \n",
      "146   0      1     0      0   0       0  \n",
      "147   0      0     0      0   0       0  \n",
      "148   0      0     0      0   0       0  \n",
      "149   1      0     0      0   0       0  \n",
      "150   0      0     0      0   0       0  \n",
      "\n",
      "[151 rows x 19 columns]\n"
     ]
    }
   ],
   "source": [
    "columns = ['id']+classes_array\n",
    "data = []\n",
    "\n",
    "# Enumerate through predictions\n",
    "for i, pred in enumerate(test_predictions):\n",
    "    # Create a row with id and predictions\n",
    "    row = ['{:03d}eval'.format(i+1)] + list(pred)\n",
    "    data.append(row)\n",
    "\n",
    "new_df = pd.DataFrame(data, columns=columns)\n",
    "print(new_df)\n"
   ]
  },
  {
   "cell_type": "code",
   "execution_count": null,
   "metadata": {},
   "outputs": [
    {
     "name": "stdout",
     "output_type": "stream",
     "text": [
      "          id  CE  ENV  BME  PE  METAL  ME  EE  CPE  OPTIC  NANO  CHE  MATENG  \\\n",
      "0    001eval   0    0    0   0      0   0   1    0      0     0    1       0   \n",
      "1    002eval   1    0    0   0      0   0   1    0      0     0    1       0   \n",
      "2    003eval   0    0    0   0      0   0   0    0      0     0    1       0   \n",
      "3    004eval   0    0    0   0      0   0   1    0      0     0    0       0   \n",
      "4    005eval   0    0    0   0      0   0   0    1      0     0    0       0   \n",
      "..       ...  ..  ...  ...  ..    ...  ..  ..  ...    ...   ...  ...     ...   \n",
      "146  147eval   0    1    0   0      1   0   0    0      0     0    1       1   \n",
      "147  148eval   1    0    0   0      0   0   1    1      0     0    0       0   \n",
      "148  149eval   0    0    0   0      0   0   0    0      0     0    1       0   \n",
      "149  150eval   0    0    0   0      0   1   0    0      0     0    1       0   \n",
      "150  151eval   0    0    0   0      0   0   0    0      0     0    0       0   \n",
      "\n",
      "     AGRI  EDU  IE  SAFETY  MATH  MATSCI  \n",
      "0       0    0   0       0     0       0  \n",
      "1       0    0   0       0     0       1  \n",
      "2       0    0   0       0     0       0  \n",
      "3       0    0   0       0     1       0  \n",
      "4       0    0   0       0     0       0  \n",
      "..    ...  ...  ..     ...   ...     ...  \n",
      "146     0    0   0       0     0       1  \n",
      "147     0    0   0       0     1       0  \n",
      "148     0    0   0       0     0       1  \n",
      "149     0    0   0       0     0       1  \n",
      "150     0    0   0       0     1       0  \n",
      "\n",
      "[151 rows x 19 columns]\n"
     ]
    }
   ],
   "source": [
    "# Rearrange the columns of the DataFrame\n",
    "new_df = new_df[['id'] + CLASSES_ARRANGE]\n",
    "\n",
    "# Print the rearranged DataFrame\n",
    "print(new_df)"
   ]
  },
  {
   "cell_type": "code",
   "execution_count": null,
   "metadata": {},
   "outputs": [
    {
     "name": "stdout",
     "output_type": "stream",
     "text": [
      "6 7\n"
     ]
    }
   ],
   "source": [
    "row_sums = new_df.iloc[:, 1:].sum(axis=1)\n",
    "#print(row_sums)\n",
    "# Check how many of these sums are equal to 0\n",
    "num_rows_with_sum_zero = (row_sums == 0).sum()\n",
    "\n",
    "print(num_rows_with_sum_zero,max(row_sums))"
   ]
  },
  {
   "cell_type": "code",
   "execution_count": null,
   "metadata": {},
   "outputs": [
    {
     "name": "stdout",
     "output_type": "stream",
     "text": [
      "DataFrame saved to 'kaggle_submission22.csv'\n"
     ]
    }
   ],
   "source": [
    "\n",
    "# Assuming 'new_df' is your DataFrame to be saved\n",
    "path='kaggle_submission2.csv'\n",
    "# Save DataFrame to CSV\n",
    "new_df.to_csv(path, index=False)\n",
    "\n",
    "print(\"DataFrame saved to 'kaggle_submission2.csv'\")"
   ]
  }
 ],
 "metadata": {
  "kernelspec": {
   "display_name": ".venv",
   "language": "python",
   "name": "python3"
  },
  "language_info": {
   "codemirror_mode": {
    "name": "ipython",
    "version": 3
   },
   "file_extension": ".py",
   "mimetype": "text/x-python",
   "name": "python",
   "nbconvert_exporter": "python",
   "pygments_lexer": "ipython3",
   "version": "3.12.1"
  }
 },
 "nbformat": 4,
 "nbformat_minor": 2
}
